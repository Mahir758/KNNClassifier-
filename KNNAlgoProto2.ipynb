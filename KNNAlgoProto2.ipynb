{
 "cells": [
  {
   "cell_type": "code",
   "execution_count": 2,
   "metadata": {},
   "outputs": [],
   "source": [
    "import numpy as np\n",
    "import pandas as pd\n",
    "from matplotlib import pyplot as plt"
   ]
  },
  {
   "cell_type": "code",
   "execution_count": 32,
   "metadata": {},
   "outputs": [],
   "source": [
    "class KNNClassifier():\n",
    "    \n",
    "    distances = []\n",
    "    \n",
    "    def __init__(self, dataset, K):\n",
    "        self.dataset = dataset\n",
    "        self.k = K\n",
    "        \n",
    "    def euclid_dist(self, new_data):\n",
    "        for features in self.dataset:\n",
    "            for coords in self.dataset[features]:\n",
    "                euclid_distance = np.linalg.norm(np.array(coords) - np.array(new_data))\n",
    "                self.distances.append([euclid_distance, features])\n",
    "        return self.distances\n",
    "    \n",
    "    def algorithm(self):\n",
    "        if self.distances == []:\n",
    "            print(\"There are no distances with corresponding groups\")\n",
    "            pass\n",
    "        sorted_algoData = sorted(self.distances)\n",
    "        nearest_point_class = []\n",
    "        for i in range(0, self.k):\n",
    "            nearest_point_class.append(sorted_algoData[i][1])\n",
    "        print(nearest_point_class)\n",
    "        return nearest_point_class\n",
    "    "
   ]
  },
  {
   "cell_type": "code",
   "execution_count": 33,
   "metadata": {},
   "outputs": [],
   "source": [
    "dataset = {'yo':[[1, 2], [2, 3], [3, 1]], 'sho':[[6, 5], [7, 7], [8, 6]]}\n",
    "newData = [5, 7]"
   ]
  },
  {
   "cell_type": "code",
   "execution_count": 34,
   "metadata": {},
   "outputs": [],
   "source": [
    "yosho = KNNClassifier(dataset, 3)"
   ]
  },
  {
   "cell_type": "code",
   "execution_count": 37,
   "metadata": {},
   "outputs": [
    {
     "name": "stdout",
     "output_type": "stream",
     "text": [
      "['sho', 'sho', 'sho']\n"
     ]
    },
    {
     "data": {
      "text/plain": [
       "['sho', 'sho', 'sho']"
      ]
     },
     "execution_count": 37,
     "metadata": {},
     "output_type": "execute_result"
    }
   ],
   "source": [
    "yosho.algorithm()"
   ]
  },
  {
   "cell_type": "code",
   "execution_count": 38,
   "metadata": {},
   "outputs": [],
   "source": [
    "HEYO = KNNClassifier(dataset, 3)"
   ]
  },
  {
   "cell_type": "code",
   "execution_count": 39,
   "metadata": {},
   "outputs": [
    {
     "name": "stdout",
     "output_type": "stream",
     "text": [
      "['sho', 'sho', 'sho']\n"
     ]
    },
    {
     "data": {
      "text/plain": [
       "['sho', 'sho', 'sho']"
      ]
     },
     "execution_count": 39,
     "metadata": {},
     "output_type": "execute_result"
    }
   ],
   "source": [
    "HEYO.algorithm()"
   ]
  },
  {
   "cell_type": "code",
   "execution_count": null,
   "metadata": {},
   "outputs": [],
   "source": []
  }
 ],
 "metadata": {
  "kernelspec": {
   "display_name": "Python 3",
   "language": "python",
   "name": "python3"
  },
  "language_info": {
   "codemirror_mode": {
    "name": "ipython",
    "version": 3
   },
   "file_extension": ".py",
   "mimetype": "text/x-python",
   "name": "python",
   "nbconvert_exporter": "python",
   "pygments_lexer": "ipython3",
   "version": "3.7.4"
  }
 },
 "nbformat": 4,
 "nbformat_minor": 2
}
