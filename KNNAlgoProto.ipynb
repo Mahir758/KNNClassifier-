{
 "cells": [
  {
   "cell_type": "code",
   "execution_count": 2,
   "metadata": {},
   "outputs": [],
   "source": [
    "import numpy as np\n",
    "from matplotlib import pyplot as plt\n",
    "import pandas as pd"
   ]
  },
  {
   "cell_type": "code",
   "execution_count": 11,
   "metadata": {},
   "outputs": [
    {
     "name": "stdout",
     "output_type": "stream",
     "text": [
      "<bound method NDFrame.head of           id  clump_thickness  uniform_cell_size  uniform_cell_shape  \\\n",
      "0    1000025                5                  1                   1   \n",
      "1    1002945                5                  4                   4   \n",
      "2    1015425                3                  1                   1   \n",
      "3    1016277                6                  8                   8   \n",
      "4    1017023                4                  1                   1   \n",
      "..       ...              ...                ...                 ...   \n",
      "694   776715                3                  1                   1   \n",
      "695   841769                2                  1                   1   \n",
      "696   888820                5                 10                  10   \n",
      "697   897471                4                  8                   6   \n",
      "698   897471                4                  8                   8   \n",
      "\n",
      "     marginal_adhesion  single_epi_cell_size bare_nuclei  bland_chromation  \\\n",
      "0                    1                     2           1                 3   \n",
      "1                    5                     7          10                 3   \n",
      "2                    1                     2           2                 3   \n",
      "3                    1                     3           4                 3   \n",
      "4                    3                     2           1                 3   \n",
      "..                 ...                   ...         ...               ...   \n",
      "694                  1                     3           2                 1   \n",
      "695                  1                     2           1                 1   \n",
      "696                  3                     7           3                 8   \n",
      "697                  4                     3           4                10   \n",
      "698                  5                     4           5                10   \n",
      "\n",
      "     normal_nucleoli  mitoses  class  \n",
      "0                  1        1      2  \n",
      "1                  2        1      2  \n",
      "2                  1        1      2  \n",
      "3                  7        1      2  \n",
      "4                  1        1      2  \n",
      "..               ...      ...    ...  \n",
      "694                1        1      2  \n",
      "695                1        1      2  \n",
      "696               10        2      4  \n",
      "697                6        1      4  \n",
      "698                4        1      4  \n",
      "\n",
      "[699 rows x 11 columns]>\n"
     ]
    }
   ],
   "source": [
    "#import actual dataset here\n",
    "df = pd.read_csv(\"breast-cancer-wisconsin.data\")\n",
    "print(df.head)"
   ]
  },
  {
   "cell_type": "code",
   "execution_count": 17,
   "metadata": {},
   "outputs": [],
   "source": [
    "dataset = {'yo':[[1, 2], [2, 3], [3, 1]], 'sho':[[6, 5], [7, 7], [8, 6]]}\n",
    "newData = [5, 7]"
   ]
  },
  {
   "cell_type": "code",
   "execution_count": 18,
   "metadata": {},
   "outputs": [
    {
     "data": {
      "image/png": "[encoded data removed]",
      "text/plain": [
       "<Figure size 432x288 with 1 Axes>"
      ]
     },
     "metadata": {
      "needs_background": "light"
     },
     "output_type": "display_data"
    }
   ],
   "source": [
    "[[plt.scatter(ii[0], ii[1], s=100, c='r')for ii in dataset[i]]for i in dataset]\n",
    "plt.scatter(newData[0], newData[1])\n",
    "plt.show()"
   ]
  },
  {
   "cell_type": "code",
   "execution_count": 36,
   "metadata": {},
   "outputs": [],
   "source": [
    "def euclid_dist(dataset, new_data):\n",
    "    distances = []\n",
    "    for features in dataset:\n",
    "        for coords in dataset[features]:\n",
    "            euclid_distance = np.linalg.norm(np.array(coords) - np.array(new_data))\n",
    "            distances.append([euclid_distance, features])\n",
    "    return distances"
   ]
  },
  {
   "cell_type": "code",
   "execution_count": 48,
   "metadata": {},
   "outputs": [
    {
     "name": "stdout",
     "output_type": "stream",
     "text": [
      "[[6.4031242374328485, 'yo'], [5.0, 'yo'], [6.324555320336759, 'yo'], [2.23606797749979, 'sho'], [2.0, 'sho'], [3.1622776601683795, 'sho']]\n",
      "[[2.0, 'sho'], [2.23606797749979, 'sho'], [3.1622776601683795, 'sho'], [5.0, 'yo'], [6.324555320336759, 'yo'], [6.4031242374328485, 'yo']]\n",
      "sho\n",
      "sho\n",
      "sho\n",
      "yo\n",
      "yo\n",
      "yo\n"
     ]
    }
   ],
   "source": [
    "some_yo = euclid_dist(dataset, newData)\n",
    "print(some_yo)\n",
    "some_sorted_yo = sorted(some_yo)\n",
    "print(some_sorted_yo)\n",
    "for i in range(len(some_sorted_yo)):\n",
    "    print(some_sorted_yo[i][1])"
   ]
  },
  {
   "cell_type": "code",
   "execution_count": 44,
   "metadata": {},
   "outputs": [],
   "source": [
    "def knnalgo(k, euclid_dist):\n",
    "    sorted_algodata = sorted(euclid_dist)\n",
    "    print(sorted_algodata)\n",
    "    nearest_points_class = []\n",
    "    for i in range(0, k):\n",
    "        nearest_points_class.append(sorted_algodata[i][1])\n",
    "    print(nearest_points_class)\n",
    "    return nearest_points_class"
   ]
  },
  {
   "cell_type": "code",
   "execution_count": 49,
   "metadata": {},
   "outputs": [
    {
     "name": "stdout",
     "output_type": "stream",
     "text": [
      "[[2.0, 'sho'], [2.23606797749979, 'sho'], [3.1622776601683795, 'sho'], [5.0, 'yo'], [6.324555320336759, 'yo'], [6.4031242374328485, 'yo']]\n",
      "['sho', 'sho', 'sho']\n",
      "['sho', 'sho', 'sho']\n"
     ]
    }
   ],
   "source": [
    "some_new_thingy = euclid_dist(dataset, newData)\n",
    "algo_thingy = knnalgo(3, some_new_thingy)\n",
    "print(algo_thingy)"
   ]
  },
  {
   "cell_type": "code",
   "execution_count": null,
   "metadata": {},
   "outputs": [],
   "source": []
  },
  {
   "cell_type": "code",
   "execution_count": null,
   "metadata": {},
   "outputs": [],
   "source": []
  }
 ],
 "metadata": {
  "kernelspec": {
   "display_name": "Python 3",
   "language": "python",
   "name": "python3"
  },
  "language_info": {
   "codemirror_mode": {
    "name": "ipython",
    "version": 3
   },
   "file_extension": ".py",
   "mimetype": "text/x-python",
   "name": "python",
   "nbconvert_exporter": "python",
   "pygments_lexer": "ipython3",
   "version": "3.7.4"
  }
 },
 "nbformat": 4,
 "nbformat_minor": 2
}
